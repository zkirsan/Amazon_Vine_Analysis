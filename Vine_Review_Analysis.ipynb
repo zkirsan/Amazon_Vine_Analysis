{
  "nbformat": 4,
  "nbformat_minor": 0,
  "metadata": {
    "colab": {
      "name": "Vine_Review_Analysis.ipynb",
      "provenance": [],
      "collapsed_sections": []
    },
    "kernelspec": {
      "name": "python3",
      "display_name": "Python 3"
    },
    "language_info": {
      "name": "python"
    }
  },
  "cells": [
    {
      "cell_type": "code",
      "metadata": {
        "colab": {
          "base_uri": "https://localhost:8080/"
        },
        "id": "59WWEjz6LTVN",
        "outputId": "e844555b-5679-4da7-e78c-4e22411c3242"
      },
      "source": [
        "import os\n",
        "# Find the latest version of spark 3.0  from http://www-us.apache.org/dist/spark/ and enter as the spark version\n",
        "# For example:\n",
        "# spark_version = 'spark-3.0.2'\n",
        "spark_version = 'spark-3.1.2'\n",
        "os.environ['SPARK_VERSION']=spark_version\n",
        "\n",
        "# Install Spark and Java\n",
        "!apt-get update\n",
        "!apt-get install openjdk-11-jdk-headless -qq > /dev/null\n",
        "!wget -q http://www-us.apache.org/dist/spark/$SPARK_VERSION/$SPARK_VERSION-bin-hadoop2.7.tgz\n",
        "!tar xf $SPARK_VERSION-bin-hadoop2.7.tgz\n",
        "!pip install -q findspark\n",
        "\n",
        "# Set Environment Variables\n",
        "import os\n",
        "os.environ[\"JAVA_HOME\"] = \"/usr/lib/jvm/java-11-openjdk-amd64\"\n",
        "os.environ[\"SPARK_HOME\"] = f\"/content/{spark_version}-bin-hadoop2.7\"\n",
        "\n",
        "# Start a SparkSession\n",
        "import findspark\n",
        "findspark.init()"
      ],
      "execution_count": 1,
      "outputs": [
        {
          "output_type": "stream",
          "text": [
            "\r0% [Working]\r            \rHit:1 https://cloud.r-project.org/bin/linux/ubuntu bionic-cran40/ InRelease\n",
            "Ign:2 https://developer.download.nvidia.com/compute/cuda/repos/ubuntu1804/x86_64  InRelease\n",
            "Ign:3 https://developer.download.nvidia.com/compute/machine-learning/repos/ubuntu1804/x86_64  InRelease\n",
            "Hit:4 https://developer.download.nvidia.com/compute/cuda/repos/ubuntu1804/x86_64  Release\n",
            "Get:5 http://security.ubuntu.com/ubuntu bionic-security InRelease [88.7 kB]\n",
            "Hit:6 https://developer.download.nvidia.com/compute/machine-learning/repos/ubuntu1804/x86_64  Release\n",
            "Hit:7 http://ppa.launchpad.net/c2d4u.team/c2d4u4.0+/ubuntu bionic InRelease\n",
            "Hit:8 http://archive.ubuntu.com/ubuntu bionic InRelease\n",
            "Get:9 http://archive.ubuntu.com/ubuntu bionic-updates InRelease [88.7 kB]\n",
            "Hit:10 http://ppa.launchpad.net/cran/libgit2/ubuntu bionic InRelease\n",
            "Hit:13 http://ppa.launchpad.net/deadsnakes/ppa/ubuntu bionic InRelease\n",
            "Get:14 http://archive.ubuntu.com/ubuntu bionic-backports InRelease [74.6 kB]\n",
            "Hit:15 http://ppa.launchpad.net/graphics-drivers/ppa/ubuntu bionic InRelease\n",
            "Fetched 252 kB in 2s (109 kB/s)\n",
            "Reading package lists... Done\n"
          ],
          "name": "stdout"
        }
      ]
    },
    {
      "cell_type": "code",
      "metadata": {
        "id": "KyYSKZ4tLj-t"
      },
      "source": [
        "# Start Spark session\n",
        "from pyspark.sql import SparkSession\n",
        "spark = SparkSession.builder.appName(\"Deliverable2\").getOrCreate()"
      ],
      "execution_count": 2,
      "outputs": []
    },
    {
      "cell_type": "code",
      "metadata": {
        "colab": {
          "base_uri": "https://localhost:8080/"
        },
        "id": "nO63wvQnLubU",
        "outputId": "a81a42ff-defa-4498-874b-8707195979af"
      },
      "source": [
        "from pyspark import SparkFiles\n",
        "url = \"https://s3.amazonaws.com/amazon-reviews-pds/tsv/amazon_reviews_us_Home_Improvement_v1_00.tsv.gz\"\n",
        "spark.sparkContext.addFile(url)\n",
        "df = spark.read.option(\"encoding\", \"UTF-8\").csv(SparkFiles.get(\"amazon_reviews_us_Home_Improvement_v1_00.tsv.gz\"), sep=\"\\t\", header=True, inferSchema=True)\n",
        "df.show()\n"
      ],
      "execution_count": 3,
      "outputs": [
        {
          "output_type": "stream",
          "text": [
            "+-----------+-----------+--------------+----------+--------------+--------------------+----------------+-----------+-------------+-----------+----+-----------------+--------------------+--------------------+-----------+\n",
            "|marketplace|customer_id|     review_id|product_id|product_parent|       product_title|product_category|star_rating|helpful_votes|total_votes|vine|verified_purchase|     review_headline|         review_body|review_date|\n",
            "+-----------+-----------+--------------+----------+--------------+--------------------+----------------+-----------+-------------+-----------+----+-----------------+--------------------+--------------------+-----------+\n",
            "|         US|   48881148|R215C9BDXTDQOW|B00FR4YQYK|     381800308|SadoTech Model C ...|Home Improvement|          4|            0|          0|   N|                Y|          Four Stars|        good product| 2015-08-31|\n",
            "|         US|   47882936|R1DTPUV1J57YHA|B00439MYYE|     921341748|iSpring T32M 3.2 ...|Home Improvement|          5|            0|          0|   N|                Y|Good price, quick...|Good price, quick...| 2015-08-31|\n",
            "|         US|   44435471| RFAZK5EWKJWOU|B00002N762|      56053291|Schlage F10CS V E...|Home Improvement|          5|            0|          0|   N|                Y|          Five Stars|       Excellent...!| 2015-08-31|\n",
            "|         US|   28377689|R2XT8X0O0WS1AL|B000QFCP1G|     595928517|Citri-Strip QCG73...|Home Improvement|          5|            0|          0|   N|                Y|Although *slightl...|Although *slightl...| 2015-08-31|\n",
            "|         US|   50134766|R14GRNANKO2Y2J|B00WRCRKOI|     417053744|SleekLighting Bul...|Home Improvement|          5|            0|          0|   N|                Y|      Great Adapters|These adapters ar...| 2015-08-31|\n",
            "|         US|   14066511|R2BLF9VYL24LCQ|B00NIH88EW|     275395071|VDOMUS&reg;Exquis...|Home Improvement|          5|            1|          1|   N|                Y|                nice|awesome and great...| 2015-08-31|\n",
            "|         US|   15211046|R1GI9UW5KJ671O|B005B9CI96|     856617815|Frigidaire 316075...|Home Improvement|          5|            0|          0|   N|                Y|          Five Stars|Perfect. Exactly ...| 2015-08-31|\n",
            "|         US|   14862498|R2H5CEJN863M86|B008L0OMWI|     125102494|Anyray® 5-Bulbs 7...|Home Improvement|          5|            0|          1|   N|                Y|So far working gr...|So far working gr...| 2015-08-31|\n",
            "|         US|   23617292| R5PPDHFOZ3SMU|B00P9FTC6O|     523110842|Cambridge 100 pcs...|Home Improvement|          5|            0|          0|   N|                Y|           Ties tie.|Not much to say a...| 2015-08-31|\n",
            "|         US|   35820485| RE1L9IENKJJ7Y|B00K6BQEHQ|     797306964|EUBUY Silver Tone...|Home Improvement|          1|            0|          0|   N|                Y|             GARBAGE|       crap quality.| 2015-08-31|\n",
            "|         US|   47162350|R3CZ0990QC2Z0H|B008BYQCWM|     865874404|Legend 809125 Leg...|Home Improvement|          5|            0|          0|   N|                Y|          Five Stars|  Good. As expected.| 2015-08-31|\n",
            "|         US|   31884789|R3UMMD2IO29QSP|B003BLHTOU|     183592595|Forearm Forklift ...|Home Improvement|          5|            0|          0|   N|                Y|           It works!|My husband and I ...| 2015-08-31|\n",
            "|         US|   43835770| R541LE5J3OJH2|B0065I114K|     185006358|Newer Technology ...|Home Improvement|          5|            0|          0|   N|                Y|          Five Stars|     works perfectly| 2015-08-31|\n",
            "|         US|   26212294|R10KD9FIE6Y1AS|B00J9XB6BQ|      53423207|Rok Hardware 25 P...|Home Improvement|          5|            0|          0|   N|                Y|Banging cabinet d...|Banging cabinet d...| 2015-08-31|\n",
            "|         US|   17876704|R1YT5YG0QG5DCG|B00K36NJ0E|     593464633|Drift Light Using...|Home Improvement|          5|            0|          0|   N|                Y|Great product for...|Great product for...| 2015-08-31|\n",
            "|         US|   22813225|R207LXJWL40V1S|B000ZIEOHW|     833911812|Troy DPH11 Profes...|Home Improvement|          4|            0|          0|   N|                Y|GETTING THE JOB D...|Drywalling our 18...| 2015-08-31|\n",
            "|         US|   25448576| RIDP0ZD7WT9DE|B0009YDHKC|     852173443|Wright Products V...|Home Improvement|          5|            0|          0|   N|                Y|          Five Stars|exact replacement...| 2015-08-31|\n",
            "|         US|   19754503|R2XJSNZ9219U1Z|B00LBGVLS2|     929968058|LiftMaster Garage...|Home Improvement|          5|            0|          0|   N|                Y|Easy to program g...|Works as advertis...| 2015-08-31|\n",
            "|         US|   17767084|R2M9F1FVVDOGFL|B00002N5DY|     830214712|Heath Zenith SL-5...|Home Improvement|          5|            0|          0|   N|                Y|     easy to install|Working well the ...| 2015-08-31|\n",
            "|         US|   48001709|R1QTOSE2BHU2LJ|B000BQOX88|     498022954|Intermatic T101 2...|Home Improvement|          3|            1|          2|   N|                Y|Kind of disappoin...|I connected the r...| 2015-08-31|\n",
            "+-----------+-----------+--------------+----------+--------------+--------------------+----------------+-----------+-------------+-----------+----+-----------------+--------------------+--------------------+-----------+\n",
            "only showing top 20 rows\n",
            "\n"
          ],
          "name": "stdout"
        }
      ]
    },
    {
      "cell_type": "code",
      "metadata": {
        "colab": {
          "base_uri": "https://localhost:8080/"
        },
        "id": "-oWjUI1ONNKL",
        "outputId": "2742fdda-9f9e-457f-a7b8-f3ba302b8db0"
      },
      "source": [
        "# Filter the data and create a new DataFrame to retrieve all the rows where the total_votes count equalt to or greater than 20\n",
        "vote_over_20 = df.filter(\"total_votes >= 20\")\n",
        "vote_over_20.show()\n",
        "vote_over_20.count()"
      ],
      "execution_count": 4,
      "outputs": [
        {
          "output_type": "stream",
          "text": [
            "+-----------+-----------+--------------+----------+--------------+--------------------+----------------+-----------+-------------+-----------+----+-----------------+--------------------+--------------------+-----------+\n",
            "|marketplace|customer_id|     review_id|product_id|product_parent|       product_title|product_category|star_rating|helpful_votes|total_votes|vine|verified_purchase|     review_headline|         review_body|review_date|\n",
            "+-----------+-----------+--------------+----------+--------------+--------------------+----------------+-----------+-------------+-----------+----+-----------------+--------------------+--------------------+-----------+\n",
            "|         US|   42943632|R2VIQ3UX794Q0O|B00YMNSCYM|      74738477|LE LED Under Cabi...|Home Improvement|          4|           21|         21|   N|                Y|Nice Kit, I showe...|Nice Kit, I showe...| 2015-08-31|\n",
            "|         US|   24649241|R1OA24IIHWF54G|B00YI5TNXI|     813068315|Hyperikon BR20-Se...|Home Improvement|          5|           43|         45|   N|                Y|My search is over...|I've been researc...| 2015-08-31|\n",
            "|         US|   51065313| RJ7N3OOJR9RL0|B00VJ4SFZI|     646970464|Brightech Litespa...|Home Improvement|          4|           63|         71|   N|                Y|http://www.amazon...|This is the task ...| 2015-08-31|\n",
            "|         US|   14622482|R1W8778CBXSRU6|B011ES5L46|     830125005|Pakel High Perfor...|Home Improvement|          5|           28|         29|   N|                Y|These little work...|[[VIDEOID:e814b7b...| 2015-08-31|\n",
            "|         US|   14698057|R2EFAM03SWLIJX|B00Z9J18SU|     470009225|Gladle® Solar Pow...|Home Improvement|          1|           32|         35|   N|                Y|VERY disappointed...|This was VERY mis...| 2015-08-31|\n",
            "|         US|   39761005|R3F8P56ZDJ6PI8|B00XJBCVZO|     347633440|Inateck Laptop Ba...|Home Improvement|          4|          106|        115|   N|                Y|TOO BIG for Macbo...|The quality of th...| 2015-08-31|\n",
            "|         US|   49633002|R2QYLQEK9UAJQ6|B013GA5GCW|     211565965|Yellow Diamond Wa...|Home Improvement|          5|           33|         34|   N|                Y|Pretty lights! Ex...|I bought four pac...| 2015-08-31|\n",
            "|         US|   35888949| RQCC7XNYI014B|B00NHX2A9Q|     168659897|Thai Vintage Hand...|Home Improvement|          1|           91|         92|   N|                Y|I high recommend ...|SERIOUS SAFETY IS...| 2015-08-31|\n",
            "|         US|   44752631|R2U8FRHRVW5D2C|B00U82D0PM|      13415557|Command Broom & M...|Home Improvement|          5|           23|         23|   N|                N|       great product|Used on the side ...| 2015-08-31|\n",
            "|         US|   13502341|R3RJZC5J4VP7AT|B00ESVCRJO|      29756927|iSmartAlarm Prefe...|Home Improvement|          4|           86|         91|   N|                N|Great on paper, t...|I have had the iS...| 2015-08-31|\n",
            "|         US|   18586062|R2KBV3A9X53ULG|B00U3NSIOY|     438630278|Eyekepper Brushed...|Home Improvement|          5|           39|         45|   N|                Y|  Magnificent Faucet|We bought this fa...| 2015-08-31|\n",
            "|         US|   30593209|R18XX6GVZ41CY1|B00SZASXD8|     512858965|Speed Queen AWNE9...|Home Improvement|          5|           21|         22|   N|                N|No lid sensor PLEASE|First I want to s...| 2015-08-31|\n",
            "|         US|   44648561|R3V8NHJWQWOU7S|B0042HN26Q|     743700654|Werner Fire Escap...|Home Improvement|          5|           27|         27|   N|                Y|Really easy to in...|Install was reall...| 2015-08-31|\n",
            "|         US|   25349691|R25FJV7A58YHEM|B00OXO8J70|     395053938|Wolf-Guard New Wi...|Home Improvement|          1|           19|         22|   N|                Y|This is a scam. T...|This is a scam. T...| 2015-08-31|\n",
            "|         US|   52999081|R285Z02CQJJ36C|B00YP4A1U6|     896527074|Desk Lamp, TROND ...|Home Improvement|          3|           45|         48|   N|                Y|Nice LED lamp, bu...|I bought two of t...| 2015-08-31|\n",
            "|         US|   13048505| R5UJCOLQBEADG|B00MHLII8Q|     925158438|LE 10W Super Brig...|Home Improvement|          1|           31|         35|   N|                Y|Great looking but...|I bought 5 of the...| 2015-08-31|\n",
            "|         US|   24306553|R1KEUH7SZ9BIRK|B00ZAQMO4O|     929087443|Hidden Safe Fake ...|Home Improvement|          1|           20|         20|   N|                Y|        Horrible buy|Extremely unsatis...| 2015-08-31|\n",
            "|         US|   36401398|R16U59S8ZJGPLY|B00N22D3FW|     150174306|HomCom Interior S...|Home Improvement|          5|           64|         64|   N|                Y|It turned out so ...|We ordered this h...| 2015-08-31|\n",
            "|         US|   13303464|R233D4SD2MHUZG|B0013AX62K|     606824716|Scotch Tough Duct...|Home Improvement|          5|           20|         20|   N|                Y|Great for Fixing ...|This is very stro...| 2015-08-31|\n",
            "|         US|   51823416| RVDGV2G8PEUH2|B00WTCSEG4|     199476527|Outdoor Home Ligh...|Home Improvement|          1|           13|         21|   N|                N|       Paid Reviews?|I was about to bu...| 2015-08-31|\n",
            "+-----------+-----------+--------------+----------+--------------+--------------------+----------------+-----------+-------------+-----------+----+-----------------+--------------------+--------------------+-----------+\n",
            "only showing top 20 rows\n",
            "\n"
          ],
          "name": "stdout"
        },
        {
          "output_type": "execute_result",
          "data": {
            "text/plain": [
              "41458"
            ]
          },
          "metadata": {
            "tags": []
          },
          "execution_count": 4
        }
      ]
    },
    {
      "cell_type": "code",
      "metadata": {
        "colab": {
          "base_uri": "https://localhost:8080/"
        },
        "id": "pDf6EuvPPNyi",
        "outputId": "a16690bd-f78d-494c-fc28-5b01c228437f"
      },
      "source": [
        "# Create a new DataFrame or table to retrieve all the rows where the number of helpful_votes divided by total_votes is equal to or greater than 50%\n",
        "helpful_votes = vote_over_20.filter(vote_over_20[\"helpful_votes\"]/ vote_over_20[\"total_votes\"] >= 0.5)\n",
        "helpful_votes.show()"
      ],
      "execution_count": 5,
      "outputs": [
        {
          "output_type": "stream",
          "text": [
            "+-----------+-----------+--------------+----------+--------------+--------------------+----------------+-----------+-------------+-----------+----+-----------------+--------------------+--------------------+-----------+\n",
            "|marketplace|customer_id|     review_id|product_id|product_parent|       product_title|product_category|star_rating|helpful_votes|total_votes|vine|verified_purchase|     review_headline|         review_body|review_date|\n",
            "+-----------+-----------+--------------+----------+--------------+--------------------+----------------+-----------+-------------+-----------+----+-----------------+--------------------+--------------------+-----------+\n",
            "|         US|   42943632|R2VIQ3UX794Q0O|B00YMNSCYM|      74738477|LE LED Under Cabi...|Home Improvement|          4|           21|         21|   N|                Y|Nice Kit, I showe...|Nice Kit, I showe...| 2015-08-31|\n",
            "|         US|   24649241|R1OA24IIHWF54G|B00YI5TNXI|     813068315|Hyperikon BR20-Se...|Home Improvement|          5|           43|         45|   N|                Y|My search is over...|I've been researc...| 2015-08-31|\n",
            "|         US|   51065313| RJ7N3OOJR9RL0|B00VJ4SFZI|     646970464|Brightech Litespa...|Home Improvement|          4|           63|         71|   N|                Y|http://www.amazon...|This is the task ...| 2015-08-31|\n",
            "|         US|   14622482|R1W8778CBXSRU6|B011ES5L46|     830125005|Pakel High Perfor...|Home Improvement|          5|           28|         29|   N|                Y|These little work...|[[VIDEOID:e814b7b...| 2015-08-31|\n",
            "|         US|   14698057|R2EFAM03SWLIJX|B00Z9J18SU|     470009225|Gladle® Solar Pow...|Home Improvement|          1|           32|         35|   N|                Y|VERY disappointed...|This was VERY mis...| 2015-08-31|\n",
            "|         US|   39761005|R3F8P56ZDJ6PI8|B00XJBCVZO|     347633440|Inateck Laptop Ba...|Home Improvement|          4|          106|        115|   N|                Y|TOO BIG for Macbo...|The quality of th...| 2015-08-31|\n",
            "|         US|   49633002|R2QYLQEK9UAJQ6|B013GA5GCW|     211565965|Yellow Diamond Wa...|Home Improvement|          5|           33|         34|   N|                Y|Pretty lights! Ex...|I bought four pac...| 2015-08-31|\n",
            "|         US|   35888949| RQCC7XNYI014B|B00NHX2A9Q|     168659897|Thai Vintage Hand...|Home Improvement|          1|           91|         92|   N|                Y|I high recommend ...|SERIOUS SAFETY IS...| 2015-08-31|\n",
            "|         US|   44752631|R2U8FRHRVW5D2C|B00U82D0PM|      13415557|Command Broom & M...|Home Improvement|          5|           23|         23|   N|                N|       great product|Used on the side ...| 2015-08-31|\n",
            "|         US|   13502341|R3RJZC5J4VP7AT|B00ESVCRJO|      29756927|iSmartAlarm Prefe...|Home Improvement|          4|           86|         91|   N|                N|Great on paper, t...|I have had the iS...| 2015-08-31|\n",
            "|         US|   18586062|R2KBV3A9X53ULG|B00U3NSIOY|     438630278|Eyekepper Brushed...|Home Improvement|          5|           39|         45|   N|                Y|  Magnificent Faucet|We bought this fa...| 2015-08-31|\n",
            "|         US|   30593209|R18XX6GVZ41CY1|B00SZASXD8|     512858965|Speed Queen AWNE9...|Home Improvement|          5|           21|         22|   N|                N|No lid sensor PLEASE|First I want to s...| 2015-08-31|\n",
            "|         US|   44648561|R3V8NHJWQWOU7S|B0042HN26Q|     743700654|Werner Fire Escap...|Home Improvement|          5|           27|         27|   N|                Y|Really easy to in...|Install was reall...| 2015-08-31|\n",
            "|         US|   25349691|R25FJV7A58YHEM|B00OXO8J70|     395053938|Wolf-Guard New Wi...|Home Improvement|          1|           19|         22|   N|                Y|This is a scam. T...|This is a scam. T...| 2015-08-31|\n",
            "|         US|   52999081|R285Z02CQJJ36C|B00YP4A1U6|     896527074|Desk Lamp, TROND ...|Home Improvement|          3|           45|         48|   N|                Y|Nice LED lamp, bu...|I bought two of t...| 2015-08-31|\n",
            "|         US|   13048505| R5UJCOLQBEADG|B00MHLII8Q|     925158438|LE 10W Super Brig...|Home Improvement|          1|           31|         35|   N|                Y|Great looking but...|I bought 5 of the...| 2015-08-31|\n",
            "|         US|   24306553|R1KEUH7SZ9BIRK|B00ZAQMO4O|     929087443|Hidden Safe Fake ...|Home Improvement|          1|           20|         20|   N|                Y|        Horrible buy|Extremely unsatis...| 2015-08-31|\n",
            "|         US|   36401398|R16U59S8ZJGPLY|B00N22D3FW|     150174306|HomCom Interior S...|Home Improvement|          5|           64|         64|   N|                Y|It turned out so ...|We ordered this h...| 2015-08-31|\n",
            "|         US|   13303464|R233D4SD2MHUZG|B0013AX62K|     606824716|Scotch Tough Duct...|Home Improvement|          5|           20|         20|   N|                Y|Great for Fixing ...|This is very stro...| 2015-08-31|\n",
            "|         US|   51823416| RVDGV2G8PEUH2|B00WTCSEG4|     199476527|Outdoor Home Ligh...|Home Improvement|          1|           13|         21|   N|                N|       Paid Reviews?|I was about to bu...| 2015-08-31|\n",
            "+-----------+-----------+--------------+----------+--------------+--------------------+----------------+-----------+-------------+-----------+----+-----------------+--------------------+--------------------+-----------+\n",
            "only showing top 20 rows\n",
            "\n"
          ],
          "name": "stdout"
        }
      ]
    },
    {
      "cell_type": "code",
      "metadata": {
        "colab": {
          "base_uri": "https://localhost:8080/"
        },
        "id": "fG-8X_s2QRBm",
        "outputId": "c4f9435e-6008-42b4-f4f3-da489234fee2"
      },
      "source": [
        "# Filter the DataFrame or table created in Step 2, and create a new DataFrame or table that retrieves all the rows where a review was written as part of the Vine program (paid), vine == 'Y'\n",
        "vine_program = helpful_votes.filter(helpful_votes[\"vine\"] == 'Y')\n",
        "vine_program.show()"
      ],
      "execution_count": 6,
      "outputs": [
        {
          "output_type": "stream",
          "text": [
            "+-----------+-----------+--------------+----------+--------------+--------------------+----------------+-----------+-------------+-----------+----+-----------------+--------------------+--------------------+-----------+\n",
            "|marketplace|customer_id|     review_id|product_id|product_parent|       product_title|product_category|star_rating|helpful_votes|total_votes|vine|verified_purchase|     review_headline|         review_body|review_date|\n",
            "+-----------+-----------+--------------+----------+--------------+--------------------+----------------+-----------+-------------+-----------+----+-----------------+--------------------+--------------------+-----------+\n",
            "|         US|   53093730|R29V4UDSS053D8|B00P6ORMR4|     406381545|Aquasana AQ-RO-3....|Home Improvement|          3|           33|         38|   Y|                N|Not for average h...|This filter is ov...| 2015-08-30|\n",
            "|         US|   25984637|R1I2D068WC37PA|B00ZWBURWI|     302288140|Myfox Security Ca...|Home Improvement|          3|           32|         37|   Y|                N|Great Camera, lov...|This is a pretty ...| 2015-08-19|\n",
            "|         US|   45260241|R13W2U74F67QED|B00YEMKIY8|      21565048|Philips 455709 10...|Home Improvement|          5|           62|         76|   Y|                N|Nice size, works ...|These bulbs are r...| 2015-07-10|\n",
            "|         US|   52154507|R2QI37XFOBKUGD|B00YEMKIY8|      21565048|Philips 455709 10...|Home Improvement|          4|           24|         33|   Y|                N|        Great value!|These Philips lig...| 2015-07-10|\n",
            "|         US|   52886473|R19F60BB2DNCKN|B00XPW6824|     521904536|Lutron P-BDG-PKG2...|Home Improvement|          5|          170|        174|   Y|                N|Tricky wiring job...|I found the dimme...| 2015-07-05|\n",
            "|         US|   47748308|R2PYNEWYYQDWHI|B00S8ERF3A|     269185706|Kohler K-5540 Pro...|Home Improvement|          5|           24|         27|   Y|                N|         Great sink!|This sink is amaz...| 2015-06-22|\n",
            "|         US|   47914576|R1UEWHCPJL2XJB|B00VJZVMSO|     502763110|Rubbermaid RM-PL1...|Home Improvement|          5|           70|         72|   Y|                N|Compares Favorabl...|[[VIDEOID:5b30a9d...| 2015-06-14|\n",
            "|         US|   51865210| RXTMMEBRYZB53|B00SBC0LTE|     886051670|Intermatic Smart ...|Home Improvement|          5|           21|         24|   Y|                N|  Serious Protection|Your need for thi...| 2015-06-12|\n",
            "|         US|   51956455|R1PXVYIYMYGUZL|B00SBC0LTE|     886051670|Intermatic Smart ...|Home Improvement|          5|           21|         26|   Y|                N|Sorry about writi...|There is a lot of...| 2015-06-05|\n",
            "|         US|   20574570| RSFMJJXFZHX1C|B00X6E0O4O|     856831496|Kwikset 99150-002...|Home Improvement|          5|           24|         25|   Y|                N|Well Built, Easy ...|I was looking for...| 2015-06-04|\n",
            "|         US|   53068834|R3AGOANU5B89WE|B00X6E0O4O|     856831496|Kwikset 99150-002...|Home Improvement|          4|           20|         21|   Y|                N|A Good Product - ...|First off, it's i...| 2015-06-03|\n",
            "|         US|   51220229|R1Z849RVP83BSJ|B00P6ORMR4|     406381545|Aquasana AQ-RO-3....|Home Improvement|          5|           21|         23|   Y|                N|Installation is a...|This big, robust ...| 2015-05-26|\n",
            "|         US|   50699505|R2HQVKK2QW0EAT|B00S8ERF3A|     269185706|Kohler K-5540 Pro...|Home Improvement|          5|           20|         24|   Y|                N|Exceptionally bea...|This particular s...| 2015-05-25|\n",
            "|         US|   31476218|  RHSOAAAT5UVP|B00P6ORMR4|     406381545|Aquasana AQ-RO-3....|Home Improvement|          5|           55|         56|   Y|                N|Let's Get Creativ...|Let's get creativ...| 2015-05-18|\n",
            "|         US|   52822254| RZXDK1RE3YQ97|B00U82D0PM|      13415557|Command Broom & M...|Home Improvement|          4|           18|         21|   Y|                N|Wall-Stickin’ Han...|This is a clever ...| 2015-05-04|\n",
            "|         US|   53082379|R2IQH4H2S5EROF|B00QRJALYI|     455841669|Delta Faucet Lela...|Home Improvement|          5|           23|         24|   Y|                N|This Faucet Is AM...|Our old kitchen f...| 2015-04-29|\n",
            "|         US|   51242401| R2BQ1FHU7OQPQ|B00TA85LM0|      54413779|Delta 58480-PK In...|Home Improvement|          5|          212|        220|   Y|                N|Very convenient, ...|I got this for my...| 2015-04-11|\n",
            "|         US|   30937618| RH1A5XB16O3BM|B00SSCC18G|     588655926|Illuminada Modern...|Home Improvement|          4|           28|         32|   Y|                N|Looks more expens...|This lamp has a w...| 2015-04-09|\n",
            "|         US|   52886473| R4MAE8LHKDZMG|B00CAO4NUM|     497908102|Lutron Maestro LE...|Home Improvement|          5|           36|         39|   Y|                Y|Why it’s good to ...|This Lutron  MSCL...| 2015-04-06|\n",
            "|         US|   52894753|R2QLNOOJ4J16D2|B00TA85LM0|      54413779|Delta 58480-PK In...|Home Improvement|          3|          111|        118|   Y|                N|Look for one with...|This shower head ...| 2015-03-28|\n",
            "+-----------+-----------+--------------+----------+--------------+--------------------+----------------+-----------+-------------+-----------+----+-----------------+--------------------+--------------------+-----------+\n",
            "only showing top 20 rows\n",
            "\n"
          ],
          "name": "stdout"
        }
      ]
    },
    {
      "cell_type": "code",
      "metadata": {
        "colab": {
          "base_uri": "https://localhost:8080/"
        },
        "id": "kK7X9NmlQykU",
        "outputId": "cd69613d-05e6-4fc1-e614-b7a2d6c80c60"
      },
      "source": [
        "# Repeat previous step, but this time retrieve all the rows where the review was not part of the Vine program (unpaid), vine == 'N'\n",
        "vine_program_unpaid = helpful_votes.filter(helpful_votes[\"vine\"] == 'N')\n",
        "vine_program_unpaid.show()"
      ],
      "execution_count": 7,
      "outputs": [
        {
          "output_type": "stream",
          "text": [
            "+-----------+-----------+--------------+----------+--------------+--------------------+----------------+-----------+-------------+-----------+----+-----------------+--------------------+--------------------+-----------+\n",
            "|marketplace|customer_id|     review_id|product_id|product_parent|       product_title|product_category|star_rating|helpful_votes|total_votes|vine|verified_purchase|     review_headline|         review_body|review_date|\n",
            "+-----------+-----------+--------------+----------+--------------+--------------------+----------------+-----------+-------------+-----------+----+-----------------+--------------------+--------------------+-----------+\n",
            "|         US|   42943632|R2VIQ3UX794Q0O|B00YMNSCYM|      74738477|LE LED Under Cabi...|Home Improvement|          4|           21|         21|   N|                Y|Nice Kit, I showe...|Nice Kit, I showe...| 2015-08-31|\n",
            "|         US|   24649241|R1OA24IIHWF54G|B00YI5TNXI|     813068315|Hyperikon BR20-Se...|Home Improvement|          5|           43|         45|   N|                Y|My search is over...|I've been researc...| 2015-08-31|\n",
            "|         US|   51065313| RJ7N3OOJR9RL0|B00VJ4SFZI|     646970464|Brightech Litespa...|Home Improvement|          4|           63|         71|   N|                Y|http://www.amazon...|This is the task ...| 2015-08-31|\n",
            "|         US|   14622482|R1W8778CBXSRU6|B011ES5L46|     830125005|Pakel High Perfor...|Home Improvement|          5|           28|         29|   N|                Y|These little work...|[[VIDEOID:e814b7b...| 2015-08-31|\n",
            "|         US|   14698057|R2EFAM03SWLIJX|B00Z9J18SU|     470009225|Gladle® Solar Pow...|Home Improvement|          1|           32|         35|   N|                Y|VERY disappointed...|This was VERY mis...| 2015-08-31|\n",
            "|         US|   39761005|R3F8P56ZDJ6PI8|B00XJBCVZO|     347633440|Inateck Laptop Ba...|Home Improvement|          4|          106|        115|   N|                Y|TOO BIG for Macbo...|The quality of th...| 2015-08-31|\n",
            "|         US|   49633002|R2QYLQEK9UAJQ6|B013GA5GCW|     211565965|Yellow Diamond Wa...|Home Improvement|          5|           33|         34|   N|                Y|Pretty lights! Ex...|I bought four pac...| 2015-08-31|\n",
            "|         US|   35888949| RQCC7XNYI014B|B00NHX2A9Q|     168659897|Thai Vintage Hand...|Home Improvement|          1|           91|         92|   N|                Y|I high recommend ...|SERIOUS SAFETY IS...| 2015-08-31|\n",
            "|         US|   44752631|R2U8FRHRVW5D2C|B00U82D0PM|      13415557|Command Broom & M...|Home Improvement|          5|           23|         23|   N|                N|       great product|Used on the side ...| 2015-08-31|\n",
            "|         US|   13502341|R3RJZC5J4VP7AT|B00ESVCRJO|      29756927|iSmartAlarm Prefe...|Home Improvement|          4|           86|         91|   N|                N|Great on paper, t...|I have had the iS...| 2015-08-31|\n",
            "|         US|   18586062|R2KBV3A9X53ULG|B00U3NSIOY|     438630278|Eyekepper Brushed...|Home Improvement|          5|           39|         45|   N|                Y|  Magnificent Faucet|We bought this fa...| 2015-08-31|\n",
            "|         US|   30593209|R18XX6GVZ41CY1|B00SZASXD8|     512858965|Speed Queen AWNE9...|Home Improvement|          5|           21|         22|   N|                N|No lid sensor PLEASE|First I want to s...| 2015-08-31|\n",
            "|         US|   44648561|R3V8NHJWQWOU7S|B0042HN26Q|     743700654|Werner Fire Escap...|Home Improvement|          5|           27|         27|   N|                Y|Really easy to in...|Install was reall...| 2015-08-31|\n",
            "|         US|   25349691|R25FJV7A58YHEM|B00OXO8J70|     395053938|Wolf-Guard New Wi...|Home Improvement|          1|           19|         22|   N|                Y|This is a scam. T...|This is a scam. T...| 2015-08-31|\n",
            "|         US|   52999081|R285Z02CQJJ36C|B00YP4A1U6|     896527074|Desk Lamp, TROND ...|Home Improvement|          3|           45|         48|   N|                Y|Nice LED lamp, bu...|I bought two of t...| 2015-08-31|\n",
            "|         US|   13048505| R5UJCOLQBEADG|B00MHLII8Q|     925158438|LE 10W Super Brig...|Home Improvement|          1|           31|         35|   N|                Y|Great looking but...|I bought 5 of the...| 2015-08-31|\n",
            "|         US|   24306553|R1KEUH7SZ9BIRK|B00ZAQMO4O|     929087443|Hidden Safe Fake ...|Home Improvement|          1|           20|         20|   N|                Y|        Horrible buy|Extremely unsatis...| 2015-08-31|\n",
            "|         US|   36401398|R16U59S8ZJGPLY|B00N22D3FW|     150174306|HomCom Interior S...|Home Improvement|          5|           64|         64|   N|                Y|It turned out so ...|We ordered this h...| 2015-08-31|\n",
            "|         US|   13303464|R233D4SD2MHUZG|B0013AX62K|     606824716|Scotch Tough Duct...|Home Improvement|          5|           20|         20|   N|                Y|Great for Fixing ...|This is very stro...| 2015-08-31|\n",
            "|         US|   51823416| RVDGV2G8PEUH2|B00WTCSEG4|     199476527|Outdoor Home Ligh...|Home Improvement|          1|           13|         21|   N|                N|       Paid Reviews?|I was about to bu...| 2015-08-31|\n",
            "+-----------+-----------+--------------+----------+--------------+--------------------+----------------+-----------+-------------+-----------+----+-----------------+--------------------+--------------------+-----------+\n",
            "only showing top 20 rows\n",
            "\n"
          ],
          "name": "stdout"
        }
      ]
    },
    {
      "cell_type": "code",
      "metadata": {
        "colab": {
          "base_uri": "https://localhost:8080/",
          "height": 71
        },
        "id": "zijwIF3ORJQw",
        "outputId": "6918b7b0-06f7-4ad3-f569-0ab33860620e"
      },
      "source": [
        "# Total Number of reviews, which are paid\n",
        "display(\"Total Number of reviews in the Vine Program Paid: %s\" % vine_program.count())\n",
        "# The number of 5-star reviews\n",
        "display(\"The number of 5-star in the Vine Program Paid: %s\" % vine_program.filter('star_rating == 5').count())\n",
        "# The percentage of 5-start reviews\n",
        "display(\"The percentage of 5-star reviews in the Vine Program Paid: %s\" % \"{:.2%}\".format(vine_program.filter(\"star_rating == 5\").count()/vine_program.count()))"
      ],
      "execution_count": 10,
      "outputs": [
        {
          "output_type": "display_data",
          "data": {
            "application/vnd.google.colaboratory.intrinsic+json": {
              "type": "string"
            },
            "text/plain": [
              "'Total Number of reviews in the Vine Program Paid: 266'"
            ]
          },
          "metadata": {
            "tags": []
          }
        },
        {
          "output_type": "display_data",
          "data": {
            "application/vnd.google.colaboratory.intrinsic+json": {
              "type": "string"
            },
            "text/plain": [
              "'The number of 5-star in the Vine Program Paid: 125'"
            ]
          },
          "metadata": {
            "tags": []
          }
        },
        {
          "output_type": "display_data",
          "data": {
            "application/vnd.google.colaboratory.intrinsic+json": {
              "type": "string"
            },
            "text/plain": [
              "'The percentage of 5-star reviews in the Vine Program Paid: 46.99%'"
            ]
          },
          "metadata": {
            "tags": []
          }
        }
      ]
    },
    {
      "cell_type": "code",
      "metadata": {
        "colab": {
          "base_uri": "https://localhost:8080/",
          "height": 71
        },
        "id": "G9T51IbmVcWj",
        "outputId": "f11f6aea-c5c9-4e5c-d1d3-e8547f0f2a8e"
      },
      "source": [
        "# Total Number of reviews, which are unpaid\n",
        "display(\"Total Number of reviews in the Vine Program Unpaid: %s\" % vine_program_unpaid.count())\n",
        "# The number of 5-star reviews\n",
        "display(\"The number of 5-star in the Vine Program Unpaid: %s\" % vine_program_unpaid.filter('star_rating == 5').count())\n",
        "# The percentage of 5-start reviews\n",
        "display(\"The percentage of 5-star reviews in the Vine Program Unpaid: %s\" % \"{:.2%}\".format(vine_program_unpaid.filter(\"star_rating == 5\").count()/vine_program_unpaid.count()))"
      ],
      "execution_count": 11,
      "outputs": [
        {
          "output_type": "display_data",
          "data": {
            "application/vnd.google.colaboratory.intrinsic+json": {
              "type": "string"
            },
            "text/plain": [
              "'Total Number of reviews in the Vine Program Unpaid: 38829'"
            ]
          },
          "metadata": {
            "tags": []
          }
        },
        {
          "output_type": "display_data",
          "data": {
            "application/vnd.google.colaboratory.intrinsic+json": {
              "type": "string"
            },
            "text/plain": [
              "'The number of 5-star in the Vine Program Unpaid: 18246'"
            ]
          },
          "metadata": {
            "tags": []
          }
        },
        {
          "output_type": "display_data",
          "data": {
            "application/vnd.google.colaboratory.intrinsic+json": {
              "type": "string"
            },
            "text/plain": [
              "'The percentage of 5-star reviews in the Vine Program Unpaid: 46.99%'"
            ]
          },
          "metadata": {
            "tags": []
          }
        }
      ]
    }
  ]
}